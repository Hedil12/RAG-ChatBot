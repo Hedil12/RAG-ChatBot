{
 "cells": [
  {
   "cell_type": "code",
   "execution_count": null,
   "metadata": {},
   "outputs": [
    {
     "name": "stdout",
     "output_type": "stream",
     "text": [
      "Requirement already satisfied: langchain in /usr/local/python/3.10.13/lib/python3.10/site-packages (from -r requirements.txt (line 1)) (0.2.9)\n",
      "Requirement already satisfied: torch in /home/codespace/.local/lib/python3.10/site-packages (from -r requirements.txt (line 2)) (2.3.1+cpu)\n",
      "Requirement already satisfied: transformers in /usr/local/python/3.10.13/lib/python3.10/site-packages (from -r requirements.txt (line 3)) (4.42.4)\n",
      "Requirement already satisfied: sentence-transformers in /usr/local/python/3.10.13/lib/python3.10/site-packages (from -r requirements.txt (line 4)) (3.0.1)\n",
      "Requirement already satisfied: datasets in /usr/local/python/3.10.13/lib/python3.10/site-packages (from -r requirements.txt (line 5)) (2.20.0)\n",
      "Requirement already satisfied: faiss-cpu in /usr/local/python/3.10.13/lib/python3.10/site-packages (from -r requirements.txt (line 6)) (1.8.0.post1)\n",
      "Requirement already satisfied: faiss-gpu in /usr/local/python/3.10.13/lib/python3.10/site-packages (from -r requirements.txt (line 7)) (1.7.2)\n",
      "Requirement already satisfied: langchain-community in /usr/local/python/3.10.13/lib/python3.10/site-packages (from -r requirements.txt (line 8)) (0.2.7)\n",
      "Requirement already satisfied: gradio in /usr/local/python/3.10.13/lib/python3.10/site-packages (from -r requirements.txt (line 9)) (4.38.1)\n",
      "Requirement already satisfied: accelerate in /usr/local/python/3.10.13/lib/python3.10/site-packages (from -r requirements.txt (line 10)) (0.32.1)\n",
      "Requirement already satisfied: PyYAML>=5.3 in /home/codespace/.local/lib/python3.10/site-packages (from langchain->-r requirements.txt (line 1)) (6.0.1)\n",
      "Requirement already satisfied: SQLAlchemy<3,>=1.4 in /usr/local/python/3.10.13/lib/python3.10/site-packages (from langchain->-r requirements.txt (line 1)) (2.0.31)\n",
      "Requirement already satisfied: aiohttp<4.0.0,>=3.8.3 in /usr/local/python/3.10.13/lib/python3.10/site-packages (from langchain->-r requirements.txt (line 1)) (3.9.5)\n",
      "Requirement already satisfied: async-timeout<5.0.0,>=4.0.0 in /usr/local/python/3.10.13/lib/python3.10/site-packages (from langchain->-r requirements.txt (line 1)) (4.0.3)\n",
      "Requirement already satisfied: langchain-core<0.3.0,>=0.2.20 in /usr/local/python/3.10.13/lib/python3.10/site-packages (from langchain->-r requirements.txt (line 1)) (0.2.21)\n",
      "Requirement already satisfied: langchain-text-splitters<0.3.0,>=0.2.0 in /usr/local/python/3.10.13/lib/python3.10/site-packages (from langchain->-r requirements.txt (line 1)) (0.2.2)\n",
      "Requirement already satisfied: langsmith<0.2.0,>=0.1.17 in /usr/local/python/3.10.13/lib/python3.10/site-packages (from langchain->-r requirements.txt (line 1)) (0.1.90)\n",
      "Requirement already satisfied: numpy<2,>=1 in /usr/local/python/3.10.13/lib/python3.10/site-packages (from langchain->-r requirements.txt (line 1)) (1.26.4)\n",
      "Requirement already satisfied: pydantic<3,>=1 in /usr/local/python/3.10.13/lib/python3.10/site-packages (from langchain->-r requirements.txt (line 1)) (2.8.2)\n",
      "Requirement already satisfied: requests<3,>=2 in /home/codespace/.local/lib/python3.10/site-packages (from langchain->-r requirements.txt (line 1)) (2.32.3)\n",
      "Requirement already satisfied: tenacity!=8.4.0,<9.0.0,>=8.1.0 in /home/codespace/.local/lib/python3.10/site-packages (from langchain->-r requirements.txt (line 1)) (8.5.0)\n",
      "Requirement already satisfied: filelock in /home/codespace/.local/lib/python3.10/site-packages (from torch->-r requirements.txt (line 2)) (3.15.4)\n",
      "Requirement already satisfied: typing-extensions>=4.8.0 in /home/codespace/.local/lib/python3.10/site-packages (from torch->-r requirements.txt (line 2)) (4.12.2)\n",
      "Requirement already satisfied: sympy in /home/codespace/.local/lib/python3.10/site-packages (from torch->-r requirements.txt (line 2)) (1.13.0)\n",
      "Requirement already satisfied: networkx in /home/codespace/.local/lib/python3.10/site-packages (from torch->-r requirements.txt (line 2)) (3.3)\n",
      "Requirement already satisfied: jinja2 in /home/codespace/.local/lib/python3.10/site-packages (from torch->-r requirements.txt (line 2)) (3.1.4)\n",
      "Requirement already satisfied: fsspec in /usr/local/python/3.10.13/lib/python3.10/site-packages (from torch->-r requirements.txt (line 2)) (2024.5.0)\n",
      "Requirement already satisfied: huggingface-hub<1.0,>=0.23.2 in /usr/local/python/3.10.13/lib/python3.10/site-packages (from transformers->-r requirements.txt (line 3)) (0.23.5)\n",
      "Requirement already satisfied: packaging>=20.0 in /home/codespace/.local/lib/python3.10/site-packages (from transformers->-r requirements.txt (line 3)) (24.1)\n",
      "Requirement already satisfied: regex!=2019.12.17 in /usr/local/python/3.10.13/lib/python3.10/site-packages (from transformers->-r requirements.txt (line 3)) (2024.5.15)\n",
      "Requirement already satisfied: safetensors>=0.4.1 in /usr/local/python/3.10.13/lib/python3.10/site-packages (from transformers->-r requirements.txt (line 3)) (0.4.3)\n",
      "Requirement already satisfied: tokenizers<0.20,>=0.19 in /usr/local/python/3.10.13/lib/python3.10/site-packages (from transformers->-r requirements.txt (line 3)) (0.19.1)\n",
      "Requirement already satisfied: tqdm>=4.27 in /usr/local/python/3.10.13/lib/python3.10/site-packages (from transformers->-r requirements.txt (line 3)) (4.66.4)\n",
      "Requirement already satisfied: scikit-learn in /home/codespace/.local/lib/python3.10/site-packages (from sentence-transformers->-r requirements.txt (line 4)) (1.5.1)\n",
      "Requirement already satisfied: scipy in /home/codespace/.local/lib/python3.10/site-packages (from sentence-transformers->-r requirements.txt (line 4)) (1.14.0)\n",
      "Requirement already satisfied: Pillow in /home/codespace/.local/lib/python3.10/site-packages (from sentence-transformers->-r requirements.txt (line 4)) (10.4.0)\n",
      "Requirement already satisfied: pyarrow>=15.0.0 in /usr/local/python/3.10.13/lib/python3.10/site-packages (from datasets->-r requirements.txt (line 5)) (17.0.0)\n",
      "Requirement already satisfied: pyarrow-hotfix in /usr/local/python/3.10.13/lib/python3.10/site-packages (from datasets->-r requirements.txt (line 5)) (0.6)\n",
      "Requirement already satisfied: dill<0.3.9,>=0.3.0 in /usr/local/python/3.10.13/lib/python3.10/site-packages (from datasets->-r requirements.txt (line 5)) (0.3.8)\n",
      "Requirement already satisfied: pandas in /home/codespace/.local/lib/python3.10/site-packages (from datasets->-r requirements.txt (line 5)) (2.2.2)\n",
      "Requirement already satisfied: xxhash in /usr/local/python/3.10.13/lib/python3.10/site-packages (from datasets->-r requirements.txt (line 5)) (3.4.1)\n",
      "Requirement already satisfied: multiprocess in /usr/local/python/3.10.13/lib/python3.10/site-packages (from datasets->-r requirements.txt (line 5)) (0.70.16)\n",
      "Requirement already satisfied: dataclasses-json<0.7,>=0.5.7 in /usr/local/python/3.10.13/lib/python3.10/site-packages (from langchain-community->-r requirements.txt (line 8)) (0.6.7)\n",
      "Requirement already satisfied: aiofiles<24.0,>=22.0 in /usr/local/python/3.10.13/lib/python3.10/site-packages (from gradio->-r requirements.txt (line 9)) (23.2.1)\n",
      "Requirement already satisfied: altair<6.0,>=5.0 in /usr/local/python/3.10.13/lib/python3.10/site-packages (from gradio->-r requirements.txt (line 9)) (5.3.0)\n",
      "Requirement already satisfied: fastapi in /usr/local/python/3.10.13/lib/python3.10/site-packages (from gradio->-r requirements.txt (line 9)) (0.111.1)\n",
      "Requirement already satisfied: ffmpy in /usr/local/python/3.10.13/lib/python3.10/site-packages (from gradio->-r requirements.txt (line 9)) (0.3.2)\n",
      "Requirement already satisfied: gradio-client==1.1.0 in /usr/local/python/3.10.13/lib/python3.10/site-packages (from gradio->-r requirements.txt (line 9)) (1.1.0)\n",
      "Requirement already satisfied: httpx>=0.24.1 in /home/codespace/.local/lib/python3.10/site-packages (from gradio->-r requirements.txt (line 9)) (0.27.0)\n",
      "Requirement already satisfied: importlib-resources<7.0,>=1.3 in /usr/local/python/3.10.13/lib/python3.10/site-packages (from gradio->-r requirements.txt (line 9)) (6.4.0)\n",
      "Requirement already satisfied: markupsafe~=2.0 in /home/codespace/.local/lib/python3.10/site-packages (from gradio->-r requirements.txt (line 9)) (2.1.5)\n",
      "Requirement already satisfied: matplotlib~=3.0 in /home/codespace/.local/lib/python3.10/site-packages (from gradio->-r requirements.txt (line 9)) (3.9.1)\n",
      "Requirement already satisfied: orjson~=3.0 in /usr/local/python/3.10.13/lib/python3.10/site-packages (from gradio->-r requirements.txt (line 9)) (3.10.6)\n",
      "Requirement already satisfied: pydub in /usr/local/python/3.10.13/lib/python3.10/site-packages (from gradio->-r requirements.txt (line 9)) (0.25.1)\n",
      "Requirement already satisfied: python-multipart>=0.0.9 in /usr/local/python/3.10.13/lib/python3.10/site-packages (from gradio->-r requirements.txt (line 9)) (0.0.9)\n",
      "Requirement already satisfied: ruff>=0.2.2 in /usr/local/python/3.10.13/lib/python3.10/site-packages (from gradio->-r requirements.txt (line 9)) (0.5.3)\n",
      "Requirement already satisfied: semantic-version~=2.0 in /usr/local/python/3.10.13/lib/python3.10/site-packages (from gradio->-r requirements.txt (line 9)) (2.10.0)\n",
      "Requirement already satisfied: tomlkit==0.12.0 in /usr/local/python/3.10.13/lib/python3.10/site-packages (from gradio->-r requirements.txt (line 9)) (0.12.0)\n",
      "Requirement already satisfied: typer<1.0,>=0.12 in /usr/local/python/3.10.13/lib/python3.10/site-packages (from gradio->-r requirements.txt (line 9)) (0.12.3)\n",
      "Requirement already satisfied: urllib3~=2.0 in /usr/local/python/3.10.13/lib/python3.10/site-packages (from gradio->-r requirements.txt (line 9)) (2.0.7)\n",
      "Requirement already satisfied: uvicorn>=0.14.0 in /usr/local/python/3.10.13/lib/python3.10/site-packages (from gradio->-r requirements.txt (line 9)) (0.30.1)\n",
      "Requirement already satisfied: websockets<12.0,>=10.0 in /usr/local/python/3.10.13/lib/python3.10/site-packages (from gradio-client==1.1.0->gradio->-r requirements.txt (line 9)) (11.0.3)\n",
      "Requirement already satisfied: psutil in /home/codespace/.local/lib/python3.10/site-packages (from accelerate->-r requirements.txt (line 10)) (6.0.0)\n",
      "Requirement already satisfied: aiosignal>=1.1.2 in /usr/local/python/3.10.13/lib/python3.10/site-packages (from aiohttp<4.0.0,>=3.8.3->langchain->-r requirements.txt (line 1)) (1.3.1)\n",
      "Requirement already satisfied: attrs>=17.3.0 in /home/codespace/.local/lib/python3.10/site-packages (from aiohttp<4.0.0,>=3.8.3->langchain->-r requirements.txt (line 1)) (23.2.0)\n",
      "Requirement already satisfied: frozenlist>=1.1.1 in /usr/local/python/3.10.13/lib/python3.10/site-packages (from aiohttp<4.0.0,>=3.8.3->langchain->-r requirements.txt (line 1)) (1.4.1)\n",
      "Requirement already satisfied: multidict<7.0,>=4.5 in /usr/local/python/3.10.13/lib/python3.10/site-packages (from aiohttp<4.0.0,>=3.8.3->langchain->-r requirements.txt (line 1)) (6.0.5)\n",
      "Requirement already satisfied: yarl<2.0,>=1.0 in /usr/local/python/3.10.13/lib/python3.10/site-packages (from aiohttp<4.0.0,>=3.8.3->langchain->-r requirements.txt (line 1)) (1.9.4)\n",
      "Requirement already satisfied: jsonschema>=3.0 in /home/codespace/.local/lib/python3.10/site-packages (from altair<6.0,>=5.0->gradio->-r requirements.txt (line 9)) (4.23.0)\n",
      "Requirement already satisfied: toolz in /usr/local/python/3.10.13/lib/python3.10/site-packages (from altair<6.0,>=5.0->gradio->-r requirements.txt (line 9)) (0.12.1)\n",
      "Requirement already satisfied: marshmallow<4.0.0,>=3.18.0 in /usr/local/python/3.10.13/lib/python3.10/site-packages (from dataclasses-json<0.7,>=0.5.7->langchain-community->-r requirements.txt (line 8)) (3.21.3)\n",
      "Requirement already satisfied: typing-inspect<1,>=0.4.0 in /usr/local/python/3.10.13/lib/python3.10/site-packages (from dataclasses-json<0.7,>=0.5.7->langchain-community->-r requirements.txt (line 8)) (0.9.0)\n",
      "Requirement already satisfied: anyio in /home/codespace/.local/lib/python3.10/site-packages (from httpx>=0.24.1->gradio->-r requirements.txt (line 9)) (4.4.0)\n",
      "Requirement already satisfied: certifi in /home/codespace/.local/lib/python3.10/site-packages (from httpx>=0.24.1->gradio->-r requirements.txt (line 9)) (2024.7.4)\n",
      "Requirement already satisfied: httpcore==1.* in /home/codespace/.local/lib/python3.10/site-packages (from httpx>=0.24.1->gradio->-r requirements.txt (line 9)) (1.0.5)\n",
      "Requirement already satisfied: idna in /home/codespace/.local/lib/python3.10/site-packages (from httpx>=0.24.1->gradio->-r requirements.txt (line 9)) (3.7)\n",
      "Requirement already satisfied: sniffio in /home/codespace/.local/lib/python3.10/site-packages (from httpx>=0.24.1->gradio->-r requirements.txt (line 9)) (1.3.1)\n",
      "Requirement already satisfied: h11<0.15,>=0.13 in /home/codespace/.local/lib/python3.10/site-packages (from httpcore==1.*->httpx>=0.24.1->gradio->-r requirements.txt (line 9)) (0.14.0)\n",
      "Requirement already satisfied: jsonpatch<2.0,>=1.33 in /usr/local/python/3.10.13/lib/python3.10/site-packages (from langchain-core<0.3.0,>=0.2.20->langchain->-r requirements.txt (line 1)) (1.33)\n",
      "Requirement already satisfied: contourpy>=1.0.1 in /home/codespace/.local/lib/python3.10/site-packages (from matplotlib~=3.0->gradio->-r requirements.txt (line 9)) (1.2.1)\n",
      "Requirement already satisfied: cycler>=0.10 in /home/codespace/.local/lib/python3.10/site-packages (from matplotlib~=3.0->gradio->-r requirements.txt (line 9)) (0.12.1)\n",
      "Requirement already satisfied: fonttools>=4.22.0 in /home/codespace/.local/lib/python3.10/site-packages (from matplotlib~=3.0->gradio->-r requirements.txt (line 9)) (4.53.1)\n",
      "Requirement already satisfied: kiwisolver>=1.3.1 in /home/codespace/.local/lib/python3.10/site-packages (from matplotlib~=3.0->gradio->-r requirements.txt (line 9)) (1.4.5)\n",
      "Requirement already satisfied: pyparsing>=2.3.1 in /home/codespace/.local/lib/python3.10/site-packages (from matplotlib~=3.0->gradio->-r requirements.txt (line 9)) (3.1.2)\n",
      "Requirement already satisfied: python-dateutil>=2.7 in /home/codespace/.local/lib/python3.10/site-packages (from matplotlib~=3.0->gradio->-r requirements.txt (line 9)) (2.9.0.post0)\n",
      "Requirement already satisfied: pytz>=2020.1 in /home/codespace/.local/lib/python3.10/site-packages (from pandas->datasets->-r requirements.txt (line 5)) (2024.1)\n",
      "Requirement already satisfied: tzdata>=2022.7 in /home/codespace/.local/lib/python3.10/site-packages (from pandas->datasets->-r requirements.txt (line 5)) (2024.1)\n",
      "Requirement already satisfied: annotated-types>=0.4.0 in /usr/local/python/3.10.13/lib/python3.10/site-packages (from pydantic<3,>=1->langchain->-r requirements.txt (line 1)) (0.7.0)\n",
      "Requirement already satisfied: pydantic-core==2.20.1 in /usr/local/python/3.10.13/lib/python3.10/site-packages (from pydantic<3,>=1->langchain->-r requirements.txt (line 1)) (2.20.1)\n",
      "Requirement already satisfied: charset-normalizer<4,>=2 in /home/codespace/.local/lib/python3.10/site-packages (from requests<3,>=2->langchain->-r requirements.txt (line 1)) (3.3.2)\n",
      "Requirement already satisfied: greenlet!=0.4.17 in /usr/local/python/3.10.13/lib/python3.10/site-packages (from SQLAlchemy<3,>=1.4->langchain->-r requirements.txt (line 1)) (3.0.3)\n",
      "Requirement already satisfied: click>=8.0.0 in /usr/local/python/3.10.13/lib/python3.10/site-packages (from typer<1.0,>=0.12->gradio->-r requirements.txt (line 9)) (8.1.7)\n",
      "Requirement already satisfied: shellingham>=1.3.0 in /usr/local/python/3.10.13/lib/python3.10/site-packages (from typer<1.0,>=0.12->gradio->-r requirements.txt (line 9)) (1.5.4)\n",
      "Requirement already satisfied: rich>=10.11.0 in /usr/local/python/3.10.13/lib/python3.10/site-packages (from typer<1.0,>=0.12->gradio->-r requirements.txt (line 9)) (13.7.1)\n",
      "Requirement already satisfied: starlette<0.38.0,>=0.37.2 in /usr/local/python/3.10.13/lib/python3.10/site-packages (from fastapi->gradio->-r requirements.txt (line 9)) (0.37.2)\n",
      "Requirement already satisfied: fastapi-cli>=0.0.2 in /usr/local/python/3.10.13/lib/python3.10/site-packages (from fastapi->gradio->-r requirements.txt (line 9)) (0.0.4)\n",
      "Requirement already satisfied: email_validator>=2.0.0 in /usr/local/python/3.10.13/lib/python3.10/site-packages (from fastapi->gradio->-r requirements.txt (line 9)) (2.2.0)\n",
      "Requirement already satisfied: joblib>=1.2.0 in /home/codespace/.local/lib/python3.10/site-packages (from scikit-learn->sentence-transformers->-r requirements.txt (line 4)) (1.4.2)\n",
      "Requirement already satisfied: threadpoolctl>=3.1.0 in /home/codespace/.local/lib/python3.10/site-packages (from scikit-learn->sentence-transformers->-r requirements.txt (line 4)) (3.5.0)\n",
      "Requirement already satisfied: mpmath<1.4,>=1.1.0 in /home/codespace/.local/lib/python3.10/site-packages (from sympy->torch->-r requirements.txt (line 2)) (1.3.0)\n",
      "Requirement already satisfied: dnspython>=2.0.0 in /usr/local/python/3.10.13/lib/python3.10/site-packages (from email_validator>=2.0.0->fastapi->gradio->-r requirements.txt (line 9)) (2.6.1)\n",
      "Requirement already satisfied: jsonpointer>=1.9 in /home/codespace/.local/lib/python3.10/site-packages (from jsonpatch<2.0,>=1.33->langchain-core<0.3.0,>=0.2.20->langchain->-r requirements.txt (line 1)) (3.0.0)\n",
      "Requirement already satisfied: jsonschema-specifications>=2023.03.6 in /home/codespace/.local/lib/python3.10/site-packages (from jsonschema>=3.0->altair<6.0,>=5.0->gradio->-r requirements.txt (line 9)) (2023.12.1)\n",
      "Requirement already satisfied: referencing>=0.28.4 in /home/codespace/.local/lib/python3.10/site-packages (from jsonschema>=3.0->altair<6.0,>=5.0->gradio->-r requirements.txt (line 9)) (0.35.1)\n",
      "Requirement already satisfied: rpds-py>=0.7.1 in /home/codespace/.local/lib/python3.10/site-packages (from jsonschema>=3.0->altair<6.0,>=5.0->gradio->-r requirements.txt (line 9)) (0.19.0)\n",
      "Requirement already satisfied: six>=1.5 in /home/codespace/.local/lib/python3.10/site-packages (from python-dateutil>=2.7->matplotlib~=3.0->gradio->-r requirements.txt (line 9)) (1.16.0)\n",
      "Requirement already satisfied: markdown-it-py>=2.2.0 in /usr/local/python/3.10.13/lib/python3.10/site-packages (from rich>=10.11.0->typer<1.0,>=0.12->gradio->-r requirements.txt (line 9)) (3.0.0)\n",
      "Requirement already satisfied: pygments<3.0.0,>=2.13.0 in /home/codespace/.local/lib/python3.10/site-packages (from rich>=10.11.0->typer<1.0,>=0.12->gradio->-r requirements.txt (line 9)) (2.18.0)\n",
      "Requirement already satisfied: exceptiongroup>=1.0.2 in /home/codespace/.local/lib/python3.10/site-packages (from anyio->httpx>=0.24.1->gradio->-r requirements.txt (line 9)) (1.2.1)\n",
      "Requirement already satisfied: mypy-extensions>=0.3.0 in /usr/local/python/3.10.13/lib/python3.10/site-packages (from typing-inspect<1,>=0.4.0->dataclasses-json<0.7,>=0.5.7->langchain-community->-r requirements.txt (line 8)) (1.0.0)\n",
      "Requirement already satisfied: httptools>=0.5.0 in /usr/local/python/3.10.13/lib/python3.10/site-packages (from uvicorn[standard]>=0.12.0->fastapi->gradio->-r requirements.txt (line 9)) (0.6.1)\n",
      "Requirement already satisfied: python-dotenv>=0.13 in /usr/local/python/3.10.13/lib/python3.10/site-packages (from uvicorn[standard]>=0.12.0->fastapi->gradio->-r requirements.txt (line 9)) (1.0.1)\n",
      "Requirement already satisfied: uvloop!=0.15.0,!=0.15.1,>=0.14.0 in /usr/local/python/3.10.13/lib/python3.10/site-packages (from uvicorn[standard]>=0.12.0->fastapi->gradio->-r requirements.txt (line 9)) (0.19.0)\n",
      "Requirement already satisfied: watchfiles>=0.13 in /usr/local/python/3.10.13/lib/python3.10/site-packages (from uvicorn[standard]>=0.12.0->fastapi->gradio->-r requirements.txt (line 9)) (0.22.0)\n",
      "Requirement already satisfied: mdurl~=0.1 in /usr/local/python/3.10.13/lib/python3.10/site-packages (from markdown-it-py>=2.2.0->rich>=10.11.0->typer<1.0,>=0.12->gradio->-r requirements.txt (line 9)) (0.1.2)\n",
      "Note: you may need to restart the kernel to use updated packages.\n"
     ]
    }
   ],
   "source": [
    "pip install -r requirements.txt"
   ]
  },
  {
   "cell_type": "code",
   "execution_count": 15,
   "metadata": {},
   "outputs": [],
   "source": [
    "from langchain.embeddings import HuggingFaceEmbeddings\n",
    "from langchain_community.vectorstores import FAISS\n",
    "import torch\n",
    "from accelerate import Accelerator\n",
    "from transformers import AutoModelForCausalLM, AutoTokenizer"
   ]
  },
  {
   "cell_type": "markdown",
   "metadata": {},
   "source": [
    "# Embedding\n",
    "Using huggingFace Embeddings and sentence transformers llm"
   ]
  },
  {
   "cell_type": "code",
   "execution_count": 16,
   "metadata": {},
   "outputs": [],
   "source": [
    "def embeddings(modelPath=\"sentence-transformers/all-MiniLM-L12-v2\"):\n",
    "    model_kwargs = {'device': Accelerator().device}\n",
    "    encode_kwargs = {'normalize_embeddings': False}\n",
    "    return HuggingFaceEmbeddings(\n",
    "        model_name=modelPath,\n",
    "        model_kwargs=model_kwargs,\n",
    "        encode_kwargs=encode_kwargs\n",
    "    )"
   ]
  },
  {
   "cell_type": "markdown",
   "metadata": {},
   "source": [
    "# RAG Model\n",
    "Using RAG model Qwen with 500M Parameters"
   ]
  },
  {
   "cell_type": "code",
   "execution_count": 20,
   "metadata": {},
   "outputs": [],
   "source": [
    "def RAG_model(model_path=\"Qwen/Qwen2-0.5B-Instruct\"):\n",
    "    device = Accelerator().device  # the device to load the model onto\n",
    "\n",
    "    model = AutoModelForCausalLM.from_pretrained(\n",
    "        model_path,\n",
    "        torch_dtype=torch.bfloat16,\n",
    "        device_map=device,\n",
    "        pad_token_id=0\n",
    "    )\n",
    "    tokenizer = AutoTokenizer.from_pretrained(model_path)\n",
    "    return model, tokenizer"
   ]
  },
  {
   "cell_type": "markdown",
   "metadata": {},
   "source": [
    "# Retrieval\n",
    "Obtain similar answers corresponding to the question"
   ]
  },
  {
   "cell_type": "code",
   "execution_count": null,
   "metadata": {},
   "outputs": [],
   "source": [
    "def retrieve_context(query, top_k=3):\n",
    "    # Load FAISS index from local storage\n",
    "    vector_store = FAISS.load_local(\"/workspaces/RAG-ChatBot/faiss_index\", embeddings=embeddings(), allow_dangerous_deserialization=True)\n",
    "    \"\"\"Retrieve the most relevant documents for a given query.\"\"\"\n",
    "    docs = vector_store.similarity_search(query, k=top_k)\n",
    "    context = \" \".join([doc.page_content for doc in docs])\n",
    "    return context"
   ]
  },
  {
   "cell_type": "code",
   "execution_count": null,
   "metadata": {},
   "outputs": [],
   "source": [
    "prompt_template = \"\"\"\n",
    "Your main role is to answer questions from the user. You are an assistant specializing in computer science principles and coding.\n",
    "Retrieve relevant information from the dataset and utilize inference and suggestions for the following tasks:\n",
    "- Responses should cover fundamental principles of computer science.\n",
    "- Inferences are allowed to provide comprehensive answers.\n",
    "- Use the provided context to list down relevant information and explanations.\n",
    "- Ensure all responses are accurate and aligned with computer science topics.\n",
    "Ensure responses are derived from the dataset, use inference and suggestions to provide comprehensive answers.\n",
    "\"\"\""
   ]
  },
  {
   "cell_type": "code",
   "execution_count": null,
   "metadata": {},
   "outputs": [],
   "source": []
  },
  {
   "cell_type": "code",
   "execution_count": 18,
   "metadata": {},
   "outputs": [],
   "source": [
    " def ask_question(user_query):\n",
    "    # Retrieve relevant context\n",
    "    context = retrieve_context(user_query)\n",
    "    model, tokenizer = RAG_model()\n",
    "\n",
    "    # Prepare the prompt with context\n",
    "    messages = [\n",
    "        {\"role\": \"system\", \"content\": prompt_template},\n",
    "        {\"role\": \"user\", \"content\": f\"Context: {context}\\n\\n{user_query}\"}\n",
    "    ]\n",
    "\n",
    "    # Concatenate the messages into a single string for the model\n",
    "    text = \"\\n\".join([f\"{message['role']}: {message['content']}\" for message in messages])\n",
    "\n",
    "    # Tokenize and generate response\n",
    "    model_inputs = tokenizer(text, return_tensors=\"pt\").to(\"cpu\")\n",
    "    generated_ids = model.generate(\n",
    "        **model_inputs,\n",
    "        max_new_tokens=512,\n",
    "        pad_token_id=tokenizer.eos_token_id  # To avoid potential padding issues\n",
    "    )\n",
    "\n",
    "    # Decode the generated response\n",
    "    generated_text = tokenizer.batch_decode(generated_ids, skip_special_tokens=True)[0]\n",
    "\n",
    "    # Extract the response after the user query\n",
    "    response_start = generated_text.find(\"Answer:\")\n",
    "    if response_start != -1:\n",
    "        cleaned_response = generated_text[response_start + len(\"Answer:\"):].strip()\n",
    "    else:\n",
    "        cleaned_response = generated_text.strip()\n",
    "\n",
    "    cleaned_response = \"\\n\\n\".join([line.strip() for line in cleaned_response.split(\"\\n\\n\") if line.strip()])\n",
    "\n",
    "    return cleaned_response"
   ]
  },
  {
   "cell_type": "code",
   "execution_count": 22,
   "metadata": {},
   "outputs": [
    {
     "name": "stdout",
     "output_type": "stream",
     "text": [
      "Running on local URL:  http://127.0.0.1:7860\n",
      "\n",
      "To create a public link, set `share=True` in `launch()`.\n"
     ]
    },
    {
     "data": {
      "text/html": [
       "<div><iframe src=\"http://127.0.0.1:7860/\" width=\"100%\" height=\"500\" allow=\"autoplay; camera; microphone; clipboard-read; clipboard-write;\" frameborder=\"0\" allowfullscreen></iframe></div>"
      ],
      "text/plain": [
       "<IPython.core.display.HTML object>"
      ]
     },
     "metadata": {},
     "output_type": "display_data"
    },
    {
     "name": "stderr",
     "output_type": "stream",
     "text": [
      "Special tokens have been added in the vocabulary, make sure the associated word embeddings are fine-tuned or trained.\n"
     ]
    }
   ],
   "source": [
    "import gradio as gr\n",
    "import random\n",
    "import time\n",
    "\n",
    "with gr.Blocks() as RAG_Chatbot:\n",
    "    chatbot = gr.Chatbot()\n",
    "    msg = gr.Textbox()\n",
    "    clear = gr.ClearButton([msg, chatbot])\n",
    "\n",
    "    def respond(message, chat_history):\n",
    "        bot_message = ask_question(message)\n",
    "        chat_history.append((message, bot_message))\n",
    "        time.sleep(2)\n",
    "        return \"\", chat_history\n",
    "\n",
    "    msg.submit(respond, [msg, chatbot], [msg, chatbot])\n",
    "\n",
    "if __name__ == \"__main__\":\n",
    "    RAG_Chatbot.launch()"
   ]
  }
 ],
 "metadata": {
  "kernelspec": {
   "display_name": "Python 3",
   "language": "python",
   "name": "python3"
  },
  "language_info": {
   "codemirror_mode": {
    "name": "ipython",
    "version": 3
   },
   "file_extension": ".py",
   "mimetype": "text/x-python",
   "name": "python",
   "nbconvert_exporter": "python",
   "pygments_lexer": "ipython3",
   "version": "3.10.13"
  }
 },
 "nbformat": 4,
 "nbformat_minor": 2
}
